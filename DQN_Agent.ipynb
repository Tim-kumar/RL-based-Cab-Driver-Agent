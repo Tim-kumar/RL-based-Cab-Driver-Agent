{
 "cells": [
  {
   "cell_type": "markdown",
   "metadata": {},
   "source": [
    "### Cab-Driver Agent"
   ]
  },
  {
   "cell_type": "code",
   "execution_count": 1,
   "metadata": {},
   "outputs": [
    {
     "name": "stderr",
     "output_type": "stream",
     "text": [
      "C:\\Anaconda\\lib\\site-packages\\h5py\\__init__.py:36: FutureWarning: Conversion of the second argument of issubdtype from `float` to `np.floating` is deprecated. In future, it will be treated as `np.float64 == np.dtype(float).type`.\n",
      "  from ._conv import register_converters as _register_converters\n",
      "Using TensorFlow backend.\n"
     ]
    }
   ],
   "source": [
    "# Importing libraries\n",
    "import numpy as np\n",
    "import random\n",
    "import math\n",
    "from collections import deque\n",
    "import collections\n",
    "import pickle\n",
    "\n",
    "# for building DQN model\n",
    "from keras import layers\n",
    "from keras import Sequential\n",
    "from keras.layers import Dense, Activation, Flatten\n",
    "from keras.optimizers import Adam\n",
    "\n",
    "# for plotting graphs\n",
    "import matplotlib.pyplot as plt\n",
    "\n",
    "# Import the environment\n",
    "from Env import CabDriver"
   ]
  },
  {
   "cell_type": "markdown",
   "metadata": {},
   "source": [
    "#### Defining Time Matrix"
   ]
  },
  {
   "cell_type": "code",
   "execution_count": 2,
   "metadata": {
    "collapsed": true
   },
   "outputs": [],
   "source": [
    "# Loading the time matrix provided\n",
    "Time_matrix = np.load(\"TM.npy\")"
   ]
  },
  {
   "cell_type": "markdown",
   "metadata": {},
   "source": [
    "#### Tracking the state-action pairs for checking convergence\n"
   ]
  },
  {
   "cell_type": "code",
   "execution_count": 3,
   "metadata": {
    "collapsed": true
   },
   "outputs": [],
   "source": [
    "env = CabDriver()\n",
    "states_track=collections.defaultdict(dict)\n",
    "def initialise_tracking_states():\n",
    "    track_state_action_pair = [(tuple(env.state_encod_arch1([5,5,5])),[i for i,a in enumerate(env.action_space) if a ==(3,4)][0]),\n",
    "                            (tuple(env.state_encod_arch1([2,10,6])),[i for i,a in enumerate(env.action_space) if a ==(2,1)][0]),\n",
    "                            (tuple(env.state_encod_arch1([3,23,6])),[i for i,a in enumerate(env.action_space) if a ==(3,2)][0]),\n",
    "                            (tuple(env.state_encod_arch1([3,23,5])),[i for i,a in enumerate(env.action_space) if a ==(3,2)][0])]\n",
    "    for s,a in track_state_action_pair:\n",
    "        states_track[s][a]=[]"
   ]
  },
  {
   "cell_type": "code",
   "execution_count": 4,
   "metadata": {
    "collapsed": true
   },
   "outputs": [],
   "source": [
    "initialise_tracking_states()"
   ]
  },
  {
   "cell_type": "code",
   "execution_count": 5,
   "metadata": {
    "collapsed": true
   },
   "outputs": [],
   "source": [
    "#Defining a function to save the Q-dictionary as a pickle file\n",
    "def save_obj(obj, name ):\n",
    "    with open(name + '.pkl', 'wb') as f:\n",
    "        pickle.dump(obj, f, pickle.HIGHEST_PROTOCOL)"
   ]
  },
  {
   "cell_type": "markdown",
   "metadata": {},
   "source": [
    "### Agent Class"
   ]
  },
  {
   "cell_type": "code",
   "execution_count": 6,
   "metadata": {
    "collapsed": true
   },
   "outputs": [],
   "source": [
    "class DQNAgent:\n",
    "    def __init__(self, state_size, action_size,states_track):\n",
    "        # Define size of state and action\n",
    "        self.state_size = state_size\n",
    "        self.action_size = action_size\n",
    "\n",
    "        # Write here: Specify you hyper parameters for the DQN\n",
    "        self.discount_factor =0.95\n",
    "        self.learning_rate =0.001        \n",
    "        self.epsilon_max = 1\n",
    "        self.epsilon_decay = -0.0008\n",
    "        self.epsilon_min = 0.01\n",
    "        self.epsilon = 1\n",
    "        self.batch_size = 32        \n",
    "        # create replay memory using deque\n",
    "        self.memory = deque(maxlen=2000)\n",
    "\n",
    "        # create main model and target model\n",
    "        self.model = self.build_model()\n",
    "        \n",
    "        self.loss=[]\n",
    "        self.states_track=states_track\n",
    "\n",
    "\n",
    "    # approximate Q function using Neural Network\n",
    "    def build_model(self):\n",
    "        \n",
    "        input_shape = self.state_size\n",
    "        model = Sequential()   \n",
    "        \n",
    "        model.add(Dense(64, input_dim=self.state_size, activation='relu',kernel_initializer='he_uniform'))\n",
    "        model.add(Dense(32, activation='relu',kernel_initializer='he_uniform'))\n",
    "\n",
    "\n",
    "        model.add(Dense(self.action_size, activation='linear',kernel_initializer='he_uniform'))\n",
    "        \n",
    "        model.compile(loss='mse',optimizer=Adam(lr=self.learning_rate))\n",
    "        model.summary\n",
    "        return model\n",
    "\n",
    "\n",
    "\n",
    "    def get_action(self, state, possible_actions_index, actions,episode):\n",
    "\n",
    "        if np.random.rand() <= self.epsilon:\n",
    "            random_action=random.choice(list(enumerate(possible_actions_index)))\n",
    "            action_index=random_action[1]\n",
    "            action=actions[random_action[0]]\n",
    "        \n",
    "        else:\n",
    "\n",
    "            state = state.reshape(1, self.state_size)\n",
    "            q_value = self.model.predict(state)\n",
    "            max_action_index=np.argmax(q_value[0,possible_actions_index])\n",
    "            action_index=possible_actions_index[max_action_index]\n",
    "            action=actions[max_action_index]\n",
    "\n",
    "        \n",
    "        if self.epsilon > self.epsilon_min:\n",
    "            self.epsilon = self.epsilon_min + (self.epsilon_max - self.epsilon_min) * np.exp(self.epsilon_decay*episode)\n",
    "            \n",
    "        return action_index,action   \n",
    "\n",
    "\n",
    "    def append_sample(self, state, action, reward, next_state):\n",
    "        self.memory.append((state, action, reward, next_state))\n",
    "    \n",
    "    \n",
    "    # pick samples randomly from replay memory (with batch_size) and train the network\n",
    "    def train_model(self,episode,episode_time):\n",
    "        \n",
    "        if len(self.memory) > self.batch_size:\n",
    "            # Sample batch from the memory\n",
    "            mini_batch = random.sample(self.memory, self.batch_size)\n",
    "            update_output = np.zeros((self.batch_size, self.state_size))\n",
    "            update_input = np.zeros((self.batch_size, self.state_size))\n",
    "            \n",
    "            actions, rewards = [], []\n",
    "            \n",
    "            for i in range(self.batch_size):\n",
    "                state, action, reward, next_state = mini_batch[i]\n",
    "                update_input[i] = state\n",
    "                actions.append(action)\n",
    "                rewards.append(reward)\n",
    "                update_output[i] = next_state\n",
    "                \n",
    "            target = self.model.predict(update_input)\n",
    "            \n",
    "            target_qval = self.model.predict(update_output)\n",
    "            \n",
    "            \n",
    "            for i in range(self.batch_size):\n",
    "                if episode_time < 30*24 :\n",
    "                    target[i][actions[i]] = rewards[i]\n",
    "                else: # non-terminal state\n",
    "                    target[i][actions[i]] = rewards[i] + self.discount_factor * np.max(target_qval[i])\n",
    "                    \n",
    "                    \n",
    "            history=self.model.fit(update_input, target, batch_size=self.batch_size, epochs=1, verbose=0)\n",
    "            \n",
    "            if ((episode+1) % 100) == 0:\n",
    "                self.loss.append(history.history['loss'])\n",
    "\n",
    "        \n",
    "    def update_state_track(self):\n",
    "        for s in states_track:\n",
    "            for a in states_track[s]:\n",
    "                self.states_track[s][a].append(self.model.predict(np.array(s).reshape(1, self.state_size))[0][a])\n",
    "                \n",
    "        \n",
    "    def save(self, name):\n",
    "        self.model.save(name)"
   ]
  },
  {
   "cell_type": "code",
   "execution_count": 7,
   "metadata": {
    "collapsed": true
   },
   "outputs": [],
   "source": [
    "Episodes = 10000"
   ]
  },
  {
   "cell_type": "markdown",
   "metadata": {},
   "source": [
    "### DQN block"
   ]
  },
  {
   "cell_type": "code",
   "execution_count": 8,
   "metadata": {
    "collapsed": true
   },
   "outputs": [],
   "source": [
    "state_size = env.state_size \n",
    "action_size = len(env.action_space) +1 \n",
    "agent = DQNAgent(state_size, action_size,states_track)"
   ]
  },
  {
   "cell_type": "code",
   "execution_count": 9,
   "metadata": {},
   "outputs": [
    {
     "name": "stdout",
     "output_type": "stream",
     "text": [
      "episode: 500   total_reward: 495.0   memory length: 2000   epsilon: 0.6741479514657738\n",
      "episode: 1000   total_reward: 996.0   memory length: 2000   epsilon: 0.45519168540101296\n",
      "Processed 1k episodes\n",
      "episode: 1500   total_reward: 1336.0   memory length: 2000   epsilon: 0.30842091105269087\n",
      "episode: 2000   total_reward: 1566.0   memory length: 2000   epsilon: 0.21003751883483712\n",
      "Processed 2k episodes\n",
      "episode: 2500   total_reward: 1550.0   memory length: 2000   epsilon: 0.14408915883422307\n",
      "episode: 3000   total_reward: 1919.0   memory length: 2000   epsilon: 0.09988265112263657\n",
      "Processed 3k episodes\n",
      "episode: 3500   total_reward: 1681.0   memory length: 2000   epsilon: 0.07025014283833103\n",
      "episode: 4000   total_reward: 1662.0   memory length: 2000   epsilon: 0.050386878521043905\n",
      "Processed 4k episodes\n",
      "episode: 4500   total_reward: 1980.0   memory length: 2000   epsilon: 0.03707213426946193\n",
      "episode: 5000   total_reward: 2102.0   memory length: 2000   epsilon: 0.02814699428978873\n",
      "Processed 5k episodes\n",
      "episode: 5500   total_reward: 1999.0   memory length: 2000   epsilon: 0.02216429404773966\n",
      "episode: 6000   total_reward: 1947.0   memory length: 2000   epsilon: 0.018153970146071906\n",
      "Processed 6k episodes\n",
      "episode: 6500   total_reward: 2125.0   memory length: 2000   epsilon: 0.015465769643688147\n",
      "episode: 7000   total_reward: 1979.0   memory length: 2000   epsilon: 0.013663814959177237\n",
      "Processed 7k episodes\n",
      "episode: 7500   total_reward: 2077.0   memory length: 2000   epsilon: 0.012455928612101751\n",
      "episode: 8000   total_reward: 2074.0   memory length: 2000   epsilon: 0.01164625818032429\n",
      "Processed 8k episodes\n",
      "episode: 8500   total_reward: 1885.0   memory length: 2000   epsilon: 0.011103519859221526\n",
      "episode: 9000   total_reward: 2050.0   memory length: 2000   epsilon: 0.010739711482834615\n",
      "Processed 9k episodes\n",
      "episode: 9500   total_reward: 2002.0   memory length: 2000   epsilon: 0.01049584343522679\n",
      "episode: 10000   total_reward: 2163.0   memory length: 2000   epsilon: 0.010332373794327691\n",
      "Processed 10k episodes\n"
     ]
    }
   ],
   "source": [
    "import time\n",
    "start_time=time.time()\n",
    "track_rewards=[]\n",
    "for episode in range(Episodes):\n",
    "\n",
    "    curr_state = env.reset()\n",
    "    #print(\"start->\",curr_state)\n",
    "    episode_time=0\n",
    "    total_reward=0\n",
    "\n",
    "    \n",
    "    while episode_time < 30*24:\n",
    "    \n",
    "\n",
    "        possible_actions_index,actions=env.requests(curr_state)\n",
    "        #print(possible_actions_index,actions)\n",
    "    \n",
    "        action_index,action = agent.get_action(env.state_encod_arch1(curr_state), possible_actions_index, actions,episode)\n",
    "        #print(\"action & index->\", action,action_index)\n",
    "    \n",
    "        next_state = env.next_state_func(curr_state, action, Time_matrix)\n",
    "        reward , time_step = env. reward_func(curr_state, action, Time_matrix)\n",
    "        #print(next_state,reward, time_step)\n",
    "        \n",
    "        agent.append_sample(env.state_encod_arch1(curr_state), action_index, reward, env.state_encod_arch1(next_state))\n",
    "    \n",
    "\n",
    "        episode_time += time_step        \n",
    "        total_reward += reward\n",
    "        \n",
    "        agent.train_model(episode,episode_time)\n",
    "        \n",
    "        curr_state=next_state\n",
    "        \n",
    "        #print(\"time elpased->\",episode_time)\n",
    "        \n",
    "    \n",
    "    track_rewards.append(total_reward)\n",
    "    \n",
    "    agent.update_state_track()\n",
    "           \n",
    "        \n",
    "    if ((episode+1) % 500) == 0:   \n",
    "        print(\"episode:\", episode+1, \"  total_reward:\", total_reward, \"  memory length:\",len(agent.memory), \"  epsilon:\", agent.epsilon)\n",
    "    \n",
    "    if ((episode+1) % 1000) == 0:\n",
    "        print('Processed %dk episodes'%((episode+1)/1000))\n",
    "\n",
    "        \n",
    "    if (episode+1) % 1000 == 0:\n",
    "        agent.save(name=\"model_weights.h5\")\n",
    "\n",
    "#agent.save(name=\"model_weights.h5\")\n",
    "save_obj(states_track,'States_tracked')\n",
    "save_obj(track_rewards,'Rewards_tracked') "
   ]
  },
  {
   "cell_type": "markdown",
   "metadata": {},
   "source": [
    "### Tracking Convergence"
   ]
  },
  {
   "cell_type": "code",
   "execution_count": 10,
   "metadata": {
    "collapsed": true
   },
   "outputs": [],
   "source": [
    "with open('States_tracked.pkl', 'rb') as handle:\n",
    "    States_track = pickle.load(handle) "
   ]
  },
  {
   "cell_type": "code",
   "execution_count": 11,
   "metadata": {},
   "outputs": [
    {
     "data": {
      "image/png": "[encoded data removed]",
      "text/plain": [
       "<matplotlib.figure.Figure at 0x17ee3a8e400>"
      ]
     },
     "metadata": {},
     "output_type": "display_data"
    }
   ],
   "source": [
    "plt.figure(0, figsize=(16,7))\n",
    "plt.subplot(241)\n",
    "t1=States_track[tuple(env.state_encod_arch1([5,5,5]))][10]\n",
    "plt.title(\"(s,a)=([5,5,5],(3,4))\")\n",
    "plt.plot(np.asarray(range(0, len(t1))),np.asarray(t1))\n",
    "\n",
    "\n",
    "plt.subplot(242)\n",
    "t2=States_track[tuple(env.state_encod_arch1([2,10,6]))][4]\n",
    "plt.title(\"(s,a)=([2,10,6],(2,1))\")\n",
    "plt.plot(np.asarray(range(0, len(t2))),np.asarray(t2))\n",
    "\n",
    "plt.subplot(243)\n",
    "t3=States_track[tuple(env.state_encod_arch1([3,23,6]))][9]\n",
    "plt.title(\"(s,a)=([3,23,6],(3,2))\")\n",
    "plt.plot(np.asarray(range(0, len(t3))),np.asarray(t3))\n",
    "\n",
    "plt.subplot(244)\n",
    "t4=States_track[tuple(env.state_encod_arch1([3,23,5]))][9]\n",
    "plt.title(\"(s,a)=([3,23,5],(3,2))\")\n",
    "plt.plot(np.asarray(range(0, len(t4))),np.asarray(t4))\n",
    "\n",
    "\n",
    "plt.show()"
   ]
  },
  {
   "cell_type": "code",
   "execution_count": 12,
   "metadata": {
    "collapsed": true
   },
   "outputs": [],
   "source": [
    "with open('Rewards_tracked.pkl', 'rb') as handle1:\n",
    "    rewards_track = pickle.load(handle1) "
   ]
  },
  {
   "cell_type": "code",
   "execution_count": 13,
   "metadata": {},
   "outputs": [
    {
     "data": {
      "image/png": "[encoded data removed]",
      "text/plain": [
       "<matplotlib.figure.Figure at 0x17ee3772eb8>"
      ]
     },
     "metadata": {},
     "output_type": "display_data"
    }
   ],
   "source": [
    "plt.plot(list(range(len(rewards_track))), rewards_track)\n",
    "plt.show()"
   ]
  },
  {
   "cell_type": "markdown",
   "metadata": {},
   "source": [
    "### Testing"
   ]
  },
  {
   "cell_type": "code",
   "execution_count": 15,
   "metadata": {
    "collapsed": true
   },
   "outputs": [],
   "source": [
    "from keras.models import load_model\n",
    "model1 = load_model('model_weights.h5')"
   ]
  },
  {
   "cell_type": "code",
   "execution_count": 16,
   "metadata": {},
   "outputs": [
    {
     "data": {
      "text/plain": [
       "array([[-19.478249 ,  -1.3834771,  -7.7402277, -23.221546 ,  25.170635 ,\n",
       "         16.805635 ,  16.024017 ,  25.10121  , -15.3411455,  -2.6324553,\n",
       "          4.319205 , -40.08593  , -31.761515 , -16.759699 ,   2.06785  ,\n",
       "         -6.017052 , -16.461859 , -22.603428 , -38.06514  , -22.151768 ,\n",
       "         -4.706699 ]], dtype=float32)"
      ]
     },
     "execution_count": 16,
     "metadata": {},
     "output_type": "execute_result"
    }
   ],
   "source": [
    "model1.predict(env.state_encod_arch1([2,10,6]).reshape(1, env.state_size))"
   ]
  }
 ],
 "metadata": {
  "kernelspec": {
   "display_name": "Python 3",
   "language": "python",
   "name": "python3"
  },
  "language_info": {
   "codemirror_mode": {
    "name": "ipython",
    "version": 3
   },
   "file_extension": ".py",
   "mimetype": "text/x-python",
   "name": "python",
   "nbconvert_exporter": "python",
   "pygments_lexer": "ipython3",
   "version": "3.6.7"
  }
 },
 "nbformat": 4,
 "nbformat_minor": 2
}
